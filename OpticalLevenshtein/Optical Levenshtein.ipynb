{
 "cells": [
  {
   "cell_type": "code",
   "execution_count": 1,
   "id": "6fd221e3",
   "metadata": {},
   "outputs": [
    {
     "name": "stdout",
     "output_type": "stream",
     "text": [
      "Requirement already satisfied: pillow in c:\\programdata\\anaconda3\\lib\\site-packages (8.2.0)\n",
      "Requirement already satisfied: SSIM_PIL in c:\\programdata\\anaconda3\\lib\\site-packages (1.0.13)\n"
     ]
    }
   ],
   "source": [
    "!pip install pillow\n",
    "!pip install SSIM_PIL"
   ]
  },
  {
   "cell_type": "code",
   "execution_count": 2,
   "id": "c6a8292f",
   "metadata": {},
   "outputs": [],
   "source": [
    "from PIL import Image\n",
    "from PIL import ImageDraw\n",
    "from PIL import ImageFont\n",
    "from SSIM_PIL import compare_ssim\n",
    "import numpy as np\n",
    "import os"
   ]
  },
  {
   "cell_type": "code",
   "execution_count": 3,
   "id": "e2f4f8f7",
   "metadata": {},
   "outputs": [],
   "source": [
    "def text2png(text, path, color = \"#000\", bgcolor = \"#FFF\", font_path = None, font_size = 8, size=(14,17)):\n",
    "    font = ImageFont.load_default() if font_path == None else ImageFont.truetype(font_path, font_size)\n",
    "    \n",
    "    img = Image.new(\"RGBA\", size, bgcolor)\n",
    "    draw = ImageDraw.Draw(img)\n",
    "    draw.text( (0, 0), text, color, font=font)\n",
    "\n",
    "    img.save(path)"
   ]
  },
  {
   "cell_type": "code",
   "execution_count": 4,
   "id": "cbbf5caf",
   "metadata": {},
   "outputs": [],
   "source": [
    "def get_ssim_matrix(similarity_power, font_path=\"ssim/DroidSansMono.ttf\", font_size=9, image_path='ssim/images'):\n",
    "    # get image dimensions from largest character in font\n",
    "    font = ImageFont.truetype(font_path, font_size)\n",
    "    max_size = (0, 0)\n",
    "    for i in range(32, 127): # ascii printable characters\n",
    "        text_size = font.getsize(chr(i))\n",
    "        max_size = (max(max_size[0], text_size[0]), max(max_size[1], text_size[1]))\n",
    "    # generate character images\n",
    "    for i in range(32, 127):\n",
    "        text = chr(i)\n",
    "        out = f'{image_path}/{str(i)}.png'\n",
    "        text2png(text, out, size=max_size, font_path=font_path, font_size=font_size)\n",
    "    # generate matrix for pairwise SSIM (higher similarity_power values will accentuate differences more)\n",
    "    ssim_matrix = np.zeros((95, 95))\n",
    "    for i in range(32, 127):\n",
    "        for j in range(i + 1, 127):\n",
    "            ssim_matrix[i - 32, j - 32] = compare_ssim(\n",
    "                Image.open(f'{image_path}/{str(i)}.png'),\n",
    "                Image.open(f'{image_path}/{str(j)}.png'),\n",
    "                GPU=False\n",
    "            )\n",
    "    ssim_matrix += ssim_matrix.T + np.eye(95)\n",
    "    return ssim_matrix ** similarity_power"
   ]
  },
  {
   "cell_type": "code",
   "execution_count": 5,
   "id": "56dc2b64",
   "metadata": {},
   "outputs": [],
   "source": [
    "os.makedirs('ssim/images', exist_ok=True)"
   ]
  },
  {
   "cell_type": "code",
   "execution_count": 6,
   "id": "2ce8fcc0",
   "metadata": {},
   "outputs": [],
   "source": [
    "ssim_matrix = get_ssim_matrix(8)"
   ]
  },
  {
   "cell_type": "code",
   "execution_count": 7,
   "id": "130156f3",
   "metadata": {},
   "outputs": [
    {
     "data": {
      "text/plain": [
       "array([' ', '!', '\"', '#', '$', '%', '&', \"'\", '(', ')', '*', '+', ',',\n",
       "       '-', '.', '/', '0', '1', '2', '3', '4', '5', '6', '7', '8', '9',\n",
       "       ':', ';', '<', '=', '>', '?', '@', 'A', 'B', 'C', 'D', 'E', 'F',\n",
       "       'G', 'H', 'I', 'J', 'K', 'L', 'M', 'N', 'O', 'P', 'Q', 'R', 'S',\n",
       "       'T', 'U', 'V', 'W', 'X', 'Y', 'Z', '[', '\\\\', ']', '^', '_', '`',\n",
       "       'a', 'b', 'c', 'd', 'e', 'f', 'g', 'h', 'i', 'j', 'k', 'l', 'm',\n",
       "       'n', 'o', 'p', 'q', 'r', 's', 't', 'u', 'v', 'w', 'x', 'y', 'z',\n",
       "       '{', '|', '}', '~'], dtype='<U1')"
      ]
     },
     "execution_count": 7,
     "metadata": {},
     "output_type": "execute_result"
    }
   ],
   "source": [
    "char_list = np.array([chr(i) for i in range(32, 127)])\n",
    "char_list"
   ]
  },
  {
   "cell_type": "code",
   "execution_count": 8,
   "id": "e9b7aec6",
   "metadata": {},
   "outputs": [],
   "source": [
    "def ocr_levenshtein(s, t, return_type='ratio', ssim_matrix=None, sub_weight=2, ssim_sub_only=False):\n",
    "    rows = len(s)+1\n",
    "    cols = len(t)+1\n",
    "    distance = np.zeros((rows, cols))\n",
    "\n",
    "    distance[:, 0] = np.arange(rows)\n",
    "    distance[0, :] = np.arange(cols)\n",
    "\n",
    "    # Iterate over the matrix to compute the cost of deletions,insertions and/or substitutions    \n",
    "    for col in range(1, cols):\n",
    "        for row in range(1, rows):\n",
    "            del_cost = 1\n",
    "            ins_cost = 1\n",
    "            sub_cost = 1 * sub_weight\n",
    "            \n",
    "            if s[row-1] == t[col-1]:\n",
    "                sub_cost = 0\n",
    "            elif ssim_matrix is not None:\n",
    "                ssim_row = ord(s[row-1]) - 32\n",
    "                ssim_col = ord(t[col-1]) - 32\n",
    "                if (0 <= ssim_row <= ssim_matrix.shape[0] and\n",
    "                    0 <= ssim_col <= ssim_matrix.shape[1]):\n",
    "                    sub_cost = (1 - ssim_matrix[ssim_row, ssim_col]) * sub_weight\n",
    "                    if not ssim_sub_only:\n",
    "                        del_cost = 1 - ssim_matrix[ssim_row, 0]\n",
    "                        ins_cost = 1 - ssim_matrix[0, ssim_col]\n",
    "            \n",
    "            distance[row, col] = min(distance[row-1, col] + del_cost, # Cost of deletions\n",
    "                                 distance[row, col-1] + ins_cost,     # Cost of insertions\n",
    "                                 distance[row-1, col-1] + sub_cost)   # Cost of substitutions\n",
    "    if return_type == 'ratio':\n",
    "        return ((len(s) + len(t)) - distance[-1, -1]) / (len(s) + len(t))\n",
    "    elif return_type == 'distance':\n",
    "        return distance[-1, -1]\n",
    "    elif return_type == 'matrix':\n",
    "        return distance[1:, 1:]"
   ]
  },
  {
   "cell_type": "code",
   "execution_count": 9,
   "id": "91697c25",
   "metadata": {},
   "outputs": [
    {
     "name": "stdout",
     "output_type": "stream",
     "text": [
      "Requirement already satisfied: fuzzywuzzy in c:\\programdata\\anaconda3\\lib\\site-packages (0.18.0)\n"
     ]
    },
    {
     "name": "stderr",
     "output_type": "stream",
     "text": [
      "C:\\ProgramData\\Anaconda3\\lib\\site-packages\\fuzzywuzzy\\fuzz.py:11: UserWarning: Using slow pure-python SequenceMatcher. Install python-Levenshtein to remove this warning\n",
      "  warnings.warn('Using slow pure-python SequenceMatcher. Install python-Levenshtein to remove this warning')\n"
     ]
    }
   ],
   "source": [
    "!pip install fuzzywuzzy\n",
    "from fuzzywuzzy import fuzz"
   ]
  },
  {
   "cell_type": "code",
   "execution_count": 10,
   "id": "4b24e6c3",
   "metadata": {},
   "outputs": [
    {
     "name": "stdout",
     "output_type": "stream",
     "text": [
      "50\n",
      "40\n"
     ]
    }
   ],
   "source": [
    "print(int(ocr_levenshtein(\"Hello\", \"He11O\", ssim_matrix=ssim_matrix) * 100))\n",
    "print(fuzz.ratio(\"Hello\", \"He11O\"))"
   ]
  },
  {
   "cell_type": "code",
   "execution_count": 11,
   "id": "41ddf135",
   "metadata": {},
   "outputs": [
    {
     "name": "stdout",
     "output_type": "stream",
     "text": [
      "17\n",
      "0\n"
     ]
    }
   ],
   "source": [
    "print(int(ocr_levenshtein(\"foo\", \"bar\", ssim_matrix=ssim_matrix) * 100))\n",
    "print(fuzz.ratio(\"foo\", \"bar\"))"
   ]
  },
  {
   "cell_type": "code",
   "execution_count": 12,
   "id": "9fe6c34f",
   "metadata": {},
   "outputs": [
    {
     "name": "stdout",
     "output_type": "stream",
     "text": [
      "92\n",
      "80\n"
     ]
    }
   ],
   "source": [
    "print(int(ocr_levenshtein(\"Apple\", \"AppIe\", ssim_matrix=ssim_matrix) * 100))\n",
    "print(fuzz.ratio(\"Apple\", \"AppIe\"))"
   ]
  },
  {
   "cell_type": "code",
   "execution_count": 13,
   "id": "e1aa3eea",
   "metadata": {},
   "outputs": [
    {
     "name": "stdout",
     "output_type": "stream",
     "text": [
      "39\n",
      "18\n"
     ]
    }
   ],
   "source": [
    "print(int(ocr_levenshtein(\"Apple\", \"Orange\", ssim_matrix=ssim_matrix) * 100))\n",
    "print(fuzz.ratio(\"Apple\", \"Orange\"))"
   ]
  },
  {
   "cell_type": "code",
   "execution_count": null,
   "id": "4082e885",
   "metadata": {},
   "outputs": [],
   "source": []
  },
  {
   "cell_type": "code",
   "execution_count": null,
   "id": "d49c3553",
   "metadata": {},
   "outputs": [],
   "source": []
  },
  {
   "cell_type": "code",
   "execution_count": null,
   "id": "8cc47caf",
   "metadata": {},
   "outputs": [],
   "source": []
  },
  {
   "cell_type": "code",
   "execution_count": null,
   "id": "7fb3f194",
   "metadata": {},
   "outputs": [],
   "source": []
  },
  {
   "cell_type": "code",
   "execution_count": null,
   "id": "d2a8fa8e",
   "metadata": {},
   "outputs": [],
   "source": []
  }
 ],
 "metadata": {
  "kernelspec": {
   "display_name": "Python 3",
   "language": "python",
   "name": "python3"
  },
  "language_info": {
   "codemirror_mode": {
    "name": "ipython",
    "version": 3
   },
   "file_extension": ".py",
   "mimetype": "text/x-python",
   "name": "python",
   "nbconvert_exporter": "python",
   "pygments_lexer": "ipython3",
   "version": "3.7.10"
  }
 },
 "nbformat": 4,
 "nbformat_minor": 5
}
